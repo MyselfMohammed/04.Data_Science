{
 "cells": [
  {
   "cell_type": "code",
   "execution_count": 1,
   "id": "b37cbf58",
   "metadata": {},
   "outputs": [],
   "source": [
    "class Univariate():\n",
    "    def quanQual(dataset):\n",
    "        quan=[]\n",
    "        qual=[]\n",
    "        for columnName in dataset.columns:\n",
    "            #print(columnName)\n",
    "            if(dataset[columnName].dtype=='O'):\n",
    "                #print(\"qual\")\n",
    "                qual.append(columnName)\n",
    "            else:\n",
    "                #print(\"quan\")\n",
    "                quan.append(columnName)\n",
    "        return quan,qual"
   ]
  },
  {
   "cell_type": "code",
   "execution_count": null,
   "id": "658b09a8",
   "metadata": {},
   "outputs": [],
   "source": []
  }
 ],
 "metadata": {
  "kernelspec": {
   "display_name": "Python 3 (ipykernel)",
   "language": "python",
   "name": "python3"
  },
  "language_info": {
   "codemirror_mode": {
    "name": "ipython",
    "version": 3
   },
   "file_extension": ".py",
   "mimetype": "text/x-python",
   "name": "python",
   "nbconvert_exporter": "python",
   "pygments_lexer": "ipython3",
   "version": "3.7.1"
  }
 },
 "nbformat": 4,
 "nbformat_minor": 5
}
