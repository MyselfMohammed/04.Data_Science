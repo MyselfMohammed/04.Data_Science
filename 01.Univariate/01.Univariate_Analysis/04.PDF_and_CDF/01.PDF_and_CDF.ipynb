{
 "cells": [
  {
   "cell_type": "markdown",
   "id": "b172b2a6",
   "metadata": {},
   "source": [
    "Probability Density Function"
   ]
  },
  {
   "cell_type": "code",
   "execution_count": 1,
   "id": "b6bf3c78",
   "metadata": {},
   "outputs": [],
   "source": [
    "#importing Library - pandas and assigning into a New Variable - pd\n",
    "import pandas as pd"
   ]
  },
  {
   "cell_type": "code",
   "execution_count": 2,
   "id": "e028e5dc",
   "metadata": {},
   "outputs": [
    {
     "data": {
      "text/html": [
       "<div>\n",
       "<style scoped>\n",
       "    .dataframe tbody tr th:only-of-type {\n",
       "        vertical-align: middle;\n",
       "    }\n",
       "\n",
       "    .dataframe tbody tr th {\n",
       "        vertical-align: top;\n",
       "    }\n",
       "\n",
       "    .dataframe thead th {\n",
       "        text-align: right;\n",
       "    }\n",
       "</style>\n",
       "<table border=\"1\" class=\"dataframe\">\n",
       "  <thead>\n",
       "    <tr style=\"text-align: right;\">\n",
       "      <th></th>\n",
       "      <th>sl_no</th>\n",
       "      <th>gender</th>\n",
       "      <th>ssc_p</th>\n",
       "      <th>ssc_b</th>\n",
       "      <th>hsc_p</th>\n",
       "      <th>hsc_b</th>\n",
       "      <th>hsc_s</th>\n",
       "      <th>degree_p</th>\n",
       "      <th>degree_t</th>\n",
       "      <th>workex</th>\n",
       "      <th>etest_p</th>\n",
       "      <th>specialisation</th>\n",
       "      <th>mba_p</th>\n",
       "      <th>status</th>\n",
       "      <th>salary</th>\n",
       "    </tr>\n",
       "  </thead>\n",
       "  <tbody>\n",
       "    <tr>\n",
       "      <th>0</th>\n",
       "      <td>1</td>\n",
       "      <td>M</td>\n",
       "      <td>67.00</td>\n",
       "      <td>Others</td>\n",
       "      <td>91.00</td>\n",
       "      <td>Others</td>\n",
       "      <td>Commerce</td>\n",
       "      <td>58.00</td>\n",
       "      <td>Sci&amp;Tech</td>\n",
       "      <td>No</td>\n",
       "      <td>55.0</td>\n",
       "      <td>Mkt&amp;HR</td>\n",
       "      <td>58.80</td>\n",
       "      <td>Placed</td>\n",
       "      <td>270000.0</td>\n",
       "    </tr>\n",
       "    <tr>\n",
       "      <th>1</th>\n",
       "      <td>2</td>\n",
       "      <td>M</td>\n",
       "      <td>79.33</td>\n",
       "      <td>Central</td>\n",
       "      <td>78.33</td>\n",
       "      <td>Others</td>\n",
       "      <td>Science</td>\n",
       "      <td>77.48</td>\n",
       "      <td>Sci&amp;Tech</td>\n",
       "      <td>Yes</td>\n",
       "      <td>86.5</td>\n",
       "      <td>Mkt&amp;Fin</td>\n",
       "      <td>66.28</td>\n",
       "      <td>Placed</td>\n",
       "      <td>200000.0</td>\n",
       "    </tr>\n",
       "    <tr>\n",
       "      <th>2</th>\n",
       "      <td>3</td>\n",
       "      <td>M</td>\n",
       "      <td>65.00</td>\n",
       "      <td>Central</td>\n",
       "      <td>68.00</td>\n",
       "      <td>Central</td>\n",
       "      <td>Arts</td>\n",
       "      <td>64.00</td>\n",
       "      <td>Comm&amp;Mgmt</td>\n",
       "      <td>No</td>\n",
       "      <td>75.0</td>\n",
       "      <td>Mkt&amp;Fin</td>\n",
       "      <td>57.80</td>\n",
       "      <td>Placed</td>\n",
       "      <td>250000.0</td>\n",
       "    </tr>\n",
       "    <tr>\n",
       "      <th>3</th>\n",
       "      <td>4</td>\n",
       "      <td>M</td>\n",
       "      <td>56.00</td>\n",
       "      <td>Central</td>\n",
       "      <td>52.00</td>\n",
       "      <td>Central</td>\n",
       "      <td>Science</td>\n",
       "      <td>52.00</td>\n",
       "      <td>Sci&amp;Tech</td>\n",
       "      <td>No</td>\n",
       "      <td>66.0</td>\n",
       "      <td>Mkt&amp;HR</td>\n",
       "      <td>59.43</td>\n",
       "      <td>Not Placed</td>\n",
       "      <td>0.0</td>\n",
       "    </tr>\n",
       "    <tr>\n",
       "      <th>4</th>\n",
       "      <td>5</td>\n",
       "      <td>M</td>\n",
       "      <td>85.80</td>\n",
       "      <td>Central</td>\n",
       "      <td>73.60</td>\n",
       "      <td>Central</td>\n",
       "      <td>Commerce</td>\n",
       "      <td>73.30</td>\n",
       "      <td>Comm&amp;Mgmt</td>\n",
       "      <td>No</td>\n",
       "      <td>96.8</td>\n",
       "      <td>Mkt&amp;Fin</td>\n",
       "      <td>55.50</td>\n",
       "      <td>Placed</td>\n",
       "      <td>425000.0</td>\n",
       "    </tr>\n",
       "    <tr>\n",
       "      <th>...</th>\n",
       "      <td>...</td>\n",
       "      <td>...</td>\n",
       "      <td>...</td>\n",
       "      <td>...</td>\n",
       "      <td>...</td>\n",
       "      <td>...</td>\n",
       "      <td>...</td>\n",
       "      <td>...</td>\n",
       "      <td>...</td>\n",
       "      <td>...</td>\n",
       "      <td>...</td>\n",
       "      <td>...</td>\n",
       "      <td>...</td>\n",
       "      <td>...</td>\n",
       "      <td>...</td>\n",
       "    </tr>\n",
       "    <tr>\n",
       "      <th>210</th>\n",
       "      <td>211</td>\n",
       "      <td>M</td>\n",
       "      <td>80.60</td>\n",
       "      <td>Others</td>\n",
       "      <td>82.00</td>\n",
       "      <td>Others</td>\n",
       "      <td>Commerce</td>\n",
       "      <td>77.60</td>\n",
       "      <td>Comm&amp;Mgmt</td>\n",
       "      <td>No</td>\n",
       "      <td>91.0</td>\n",
       "      <td>Mkt&amp;Fin</td>\n",
       "      <td>74.49</td>\n",
       "      <td>Placed</td>\n",
       "      <td>400000.0</td>\n",
       "    </tr>\n",
       "    <tr>\n",
       "      <th>211</th>\n",
       "      <td>212</td>\n",
       "      <td>M</td>\n",
       "      <td>58.00</td>\n",
       "      <td>Others</td>\n",
       "      <td>60.00</td>\n",
       "      <td>Others</td>\n",
       "      <td>Science</td>\n",
       "      <td>72.00</td>\n",
       "      <td>Sci&amp;Tech</td>\n",
       "      <td>No</td>\n",
       "      <td>74.0</td>\n",
       "      <td>Mkt&amp;Fin</td>\n",
       "      <td>53.62</td>\n",
       "      <td>Placed</td>\n",
       "      <td>275000.0</td>\n",
       "    </tr>\n",
       "    <tr>\n",
       "      <th>212</th>\n",
       "      <td>213</td>\n",
       "      <td>M</td>\n",
       "      <td>67.00</td>\n",
       "      <td>Others</td>\n",
       "      <td>67.00</td>\n",
       "      <td>Others</td>\n",
       "      <td>Commerce</td>\n",
       "      <td>73.00</td>\n",
       "      <td>Comm&amp;Mgmt</td>\n",
       "      <td>Yes</td>\n",
       "      <td>59.0</td>\n",
       "      <td>Mkt&amp;Fin</td>\n",
       "      <td>69.72</td>\n",
       "      <td>Placed</td>\n",
       "      <td>295000.0</td>\n",
       "    </tr>\n",
       "    <tr>\n",
       "      <th>213</th>\n",
       "      <td>214</td>\n",
       "      <td>F</td>\n",
       "      <td>74.00</td>\n",
       "      <td>Others</td>\n",
       "      <td>66.00</td>\n",
       "      <td>Others</td>\n",
       "      <td>Commerce</td>\n",
       "      <td>58.00</td>\n",
       "      <td>Comm&amp;Mgmt</td>\n",
       "      <td>No</td>\n",
       "      <td>70.0</td>\n",
       "      <td>Mkt&amp;HR</td>\n",
       "      <td>60.23</td>\n",
       "      <td>Placed</td>\n",
       "      <td>204000.0</td>\n",
       "    </tr>\n",
       "    <tr>\n",
       "      <th>214</th>\n",
       "      <td>215</td>\n",
       "      <td>M</td>\n",
       "      <td>62.00</td>\n",
       "      <td>Central</td>\n",
       "      <td>58.00</td>\n",
       "      <td>Others</td>\n",
       "      <td>Science</td>\n",
       "      <td>53.00</td>\n",
       "      <td>Comm&amp;Mgmt</td>\n",
       "      <td>No</td>\n",
       "      <td>89.0</td>\n",
       "      <td>Mkt&amp;HR</td>\n",
       "      <td>60.22</td>\n",
       "      <td>Not Placed</td>\n",
       "      <td>0.0</td>\n",
       "    </tr>\n",
       "  </tbody>\n",
       "</table>\n",
       "<p>215 rows × 15 columns</p>\n",
       "</div>"
      ],
      "text/plain": [
       "     sl_no gender  ssc_p    ssc_b  hsc_p    hsc_b     hsc_s  degree_p  \\\n",
       "0        1      M  67.00   Others  91.00   Others  Commerce     58.00   \n",
       "1        2      M  79.33  Central  78.33   Others   Science     77.48   \n",
       "2        3      M  65.00  Central  68.00  Central      Arts     64.00   \n",
       "3        4      M  56.00  Central  52.00  Central   Science     52.00   \n",
       "4        5      M  85.80  Central  73.60  Central  Commerce     73.30   \n",
       "..     ...    ...    ...      ...    ...      ...       ...       ...   \n",
       "210    211      M  80.60   Others  82.00   Others  Commerce     77.60   \n",
       "211    212      M  58.00   Others  60.00   Others   Science     72.00   \n",
       "212    213      M  67.00   Others  67.00   Others  Commerce     73.00   \n",
       "213    214      F  74.00   Others  66.00   Others  Commerce     58.00   \n",
       "214    215      M  62.00  Central  58.00   Others   Science     53.00   \n",
       "\n",
       "      degree_t workex  etest_p specialisation  mba_p      status    salary  \n",
       "0     Sci&Tech     No     55.0         Mkt&HR  58.80      Placed  270000.0  \n",
       "1     Sci&Tech    Yes     86.5        Mkt&Fin  66.28      Placed  200000.0  \n",
       "2    Comm&Mgmt     No     75.0        Mkt&Fin  57.80      Placed  250000.0  \n",
       "3     Sci&Tech     No     66.0         Mkt&HR  59.43  Not Placed       0.0  \n",
       "4    Comm&Mgmt     No     96.8        Mkt&Fin  55.50      Placed  425000.0  \n",
       "..         ...    ...      ...            ...    ...         ...       ...  \n",
       "210  Comm&Mgmt     No     91.0        Mkt&Fin  74.49      Placed  400000.0  \n",
       "211   Sci&Tech     No     74.0        Mkt&Fin  53.62      Placed  275000.0  \n",
       "212  Comm&Mgmt    Yes     59.0        Mkt&Fin  69.72      Placed  295000.0  \n",
       "213  Comm&Mgmt     No     70.0         Mkt&HR  60.23      Placed  204000.0  \n",
       "214  Comm&Mgmt     No     89.0         Mkt&HR  60.22  Not Placed       0.0  \n",
       "\n",
       "[215 rows x 15 columns]"
      ]
     },
     "execution_count": 2,
     "metadata": {},
     "output_type": "execute_result"
    }
   ],
   "source": [
    "#Calling an Existing Function .read_csv (With Parameter as input) from Library - pandas\n",
    "#Purpose of function - To Read Dataset.CSV\n",
    "#Assigning into a New Variable - dataset\n",
    "\n",
    "dataset=pd.read_csv(\"PrePlacement.csv\")\n",
    "\n",
    "#Calling an Existing Variable - dataset for visibility of Dataset Taken \n",
    "dataset"
   ]
  },
  {
   "cell_type": "code",
   "execution_count": 3,
   "id": "219b7625",
   "metadata": {},
   "outputs": [
    {
     "data": {
      "text/plain": [
       "sl_no             0\n",
       "gender            0\n",
       "ssc_p             0\n",
       "ssc_b             0\n",
       "hsc_p             0\n",
       "hsc_b             0\n",
       "hsc_s             0\n",
       "degree_p          0\n",
       "degree_t          0\n",
       "workex            0\n",
       "etest_p           0\n",
       "specialisation    0\n",
       "mba_p             0\n",
       "status            0\n",
       "salary            0\n",
       "dtype: int64"
      ]
     },
     "execution_count": 3,
     "metadata": {},
     "output_type": "execute_result"
    }
   ],
   "source": [
    "#Method-01, To check the Presence of Null values in Entire Dataset in Count, since having poor readability in Python\n",
    "dataset.isnull().sum()"
   ]
  },
  {
   "cell_type": "code",
   "execution_count": 4,
   "id": "b389262e",
   "metadata": {},
   "outputs": [],
   "source": [
    "#importing Library - seaborn and assigning into a New Variable - sb\n",
    "\n",
    "import seaborn as sb"
   ]
  },
  {
   "cell_type": "code",
   "execution_count": 5,
   "id": "c080da96",
   "metadata": {},
   "outputs": [
    {
     "name": "stderr",
     "output_type": "stream",
     "text": [
      "C:\\Anaconda\\envs\\AI_ML\\lib\\site-packages\\ipykernel_launcher.py:3: UserWarning: \n",
      "\n",
      "`distplot` is a deprecated function and will be removed in seaborn v0.14.0.\n",
      "\n",
      "Please adapt your code to use either `displot` (a figure-level function with\n",
      "similar flexibility) or `histplot` (an axes-level function for histograms).\n",
      "\n",
      "For a guide to updating your code to use the new functions, please see\n",
      "https://gist.github.com/mwaskom/de44147ed2974457ad6372750bbe5751\n",
      "\n",
      "  This is separate from the ipykernel package so we can avoid doing imports until\n"
     ]
    },
    {
     "data": {
      "text/plain": [
       "<matplotlib.axes._subplots.AxesSubplot at 0x17310c11b00>"
      ]
     },
     "execution_count": 5,
     "metadata": {},
     "output_type": "execute_result"
    },
    {
     "data": {
      "image/png": "[encoded data removed]",
      "text/plain": [
       "<Figure size 640x480 with 1 Axes>"
      ]
     },
     "metadata": {},
     "output_type": "display_data"
    }
   ],
   "source": [
    "#Calling an Existing Function .distplot (With Parameter as input) from Library - seaborn\n",
    "\n",
    "sb.distplot(dataset[\"ssc_p\"])"
   ]
  },
  {
   "cell_type": "code",
   "execution_count": 6,
   "id": "69d70897",
   "metadata": {},
   "outputs": [],
   "source": [
    "#!pip install statsmodels"
   ]
  },
  {
   "cell_type": "code",
   "execution_count": 58,
   "id": "16ed0755",
   "metadata": {},
   "outputs": [],
   "source": [
    "\"\"\"\n",
    "※※※※※※※※※※※※※※※※※※※※※※※※※※※※※※※※※※※※※※※※※※※※※※※※※※\n",
    "𝐂𝐫𝐞𝐚𝐭𝐢𝐧𝐠 𝐚 𝐅𝐮𝐧𝐜𝐭𝐢𝐨𝐧 ➖ 𝐠𝐞𝐭_𝐩𝐝𝐟_𝐩𝐫𝐨𝐛𝐚𝐛𝐢𝐥𝐢𝐭𝐲 ❪𝐃𝐚𝐭𝐚𝐬𝐞𝐭 Column Name 𝐚𝐬 𝐏𝐚𝐫𝐚𝐦𝐞𝐭𝐞𝐫❫\n",
    "𝐏𝐮𝐫𝐩𝐨𝐬𝐞 : 𝐓𝐨 𝐀𝐮𝐭𝐨𝐦𝐚𝐭𝐞 𝐭𝐨 𝐤𝐧𝐨𝐰 𝐄𝐱𝐢𝐬𝐭𝐢𝐧𝐠 𝐏𝐞𝐫𝐜𝐞𝐧𝐭𝐚𝐠𝐞 𝐰𝐢𝐭𝐡𝐢𝐧 𝐭𝐡𝐞 𝐆𝐢𝐯𝐞𝐧 𝐒𝐭𝐚𝐫𝐭 𝐚𝐧𝐝 𝐄𝐧𝐝 𝐑𝐚𝐧𝐠𝐞\n",
    "※※※※※※※※※※※※※※※※※※※※※※※※※※※※※※※※※※※※※※※※※※※※※※※※※※\n",
    "\"\"\"\n",
    "\n",
    "def get_pdf_probability (columnNameOfDataset,startRange,endRange):\n",
    "\n",
    "    \"\"\"1. Importing Necessary Libraries\"\"\"\n",
    "\n",
    "    #importing a module - pyplot from Library - matplotlib\n",
    "    #pyplot is used for plotting Graphs\n",
    "    from matplotlib import pyplot\n",
    "    \n",
    "    #importing a Class - norm from module - stats of Library - scipy \n",
    "    #norm helps to define the \"Normal Distribution\"\n",
    "    from scipy.stats import norm \n",
    "    \n",
    "    #importing Library - seaborn and assigning into a New Variable - sb\n",
    "    #seaborn is used for plotting the \"Probability Distribution\"\n",
    "    import seaborn as sb\n",
    "    \n",
    "    \"\"\"2. Plotting the Data Distribution\"\"\"  \n",
    "    \n",
    "    #It Plots a \"Histogram\" of the dataset with \"Kernel Density Estimation (KDE)\"\n",
    "    #Color of \"Kernel Density Estimation (KDE)\" will be \"Blue\"\n",
    "    #Color of \"Histogram Bars\" will be \"Yellow\"\n",
    "    data_distrubion = sb.distplot(columnNameOfDataset, kde=True, kde_kws={'color':'Blue'}, color='gold')\n",
    "    pyplot.axvline(startRange,color='Green')\n",
    "    pyplot.axvline(endRange,color='Red')\n",
    "    \n",
    "    \"\"\"3. Calculating Mean and Standard Deviation for Sample (Dataset)\"\"\"\n",
    "\n",
    "    #Creating a New variable - Sample and assigning dataset into it\n",
    "    sample = columnNameOfDataset\n",
    "    sample_Mean = sample.mean()\n",
    "    sample_StandardDeviation = sample.std()\n",
    "    print('Mean=%.3f, Standard Deviation=%.3f' % (sample_Mean, sample_StandardDeviation))\n",
    "\n",
    "    \"\"\"4. Defining the Normal Distribution\"\"\"\n",
    "    \n",
    "    # Normal distribution (dist) is calculated using the pre-calculated mean and standard deviation\n",
    "    norm_dist = norm(sample_Mean, sample_StandardDeviation)\n",
    "    \n",
    "    \"\"\"5. Calculating Probability for the Given Range\"\"\"\n",
    "    \n",
    "    # A list of values between startrange and endrange is created.\n",
    "    values = [value for value in range(startRange,endRange)]    \n",
    "    \n",
    "    # The Probability Density Function (PDF) is Calculated for each value.\n",
    "    probabilities = [norm_dist.pdf(value) for value in values] \n",
    "    \n",
    "    # Summing all the Calculated Probabilities\n",
    "    summed_probabilities = sum(probabilities)\n",
    "    \n",
    "    #Converting into Percentage and printing the same\n",
    "    probability_Percentage = (summed_probabilities * 100)\n",
    "    print(f\"Percentage of Area between the given Range ({startRange},{endRange}) : {probability_Percentage:.2f} %\")\n",
    "    \n",
    "    # Finally, the function Ends by returning the summed probability.\n",
    "    return probability_Percentage"
   ]
  },
  {
   "cell_type": "code",
   "execution_count": 60,
   "id": "7eda5cbf",
   "metadata": {},
   "outputs": [
    {
     "name": "stdout",
     "output_type": "stream",
     "text": [
      "Mean=67.303, Standard Deviation=10.827\n",
      "Percentage of Area between the given Range (50,70) : 53.04 %\n"
     ]
    },
    {
     "name": "stderr",
     "output_type": "stream",
     "text": [
      "C:\\Anaconda\\envs\\AI_ML\\lib\\site-packages\\ipykernel_launcher.py:29: UserWarning: \n",
      "\n",
      "`distplot` is a deprecated function and will be removed in seaborn v0.14.0.\n",
      "\n",
      "Please adapt your code to use either `displot` (a figure-level function with\n",
      "similar flexibility) or `histplot` (an axes-level function for histograms).\n",
      "\n",
      "For a guide to updating your code to use the new functions, please see\n",
      "https://gist.github.com/mwaskom/de44147ed2974457ad6372750bbe5751\n",
      "\n"
     ]
    },
    {
     "data": {
      "text/plain": [
       "53.041843244007836"
      ]
     },
     "execution_count": 60,
     "metadata": {},
     "output_type": "execute_result"
    },
    {
     "data": {
      "image/png": "[encoded data removed]",
      "text/plain": [
       "<Figure size 640x480 with 1 Axes>"
      ]
     },
     "metadata": {},
     "output_type": "display_data"
    }
   ],
   "source": [
    "#Calling the Created Function - get_pdf_probability (With Parameter(s) as input)\n",
    "\n",
    "get_pdf_probability (dataset[\"ssc_p\"],50,70)"
   ]
  },
  {
   "cell_type": "code",
   "execution_count": 50,
   "id": "cd2de0d4",
   "metadata": {},
   "outputs": [
    {
     "name": "stdout",
     "output_type": "stream",
     "text": [
      "Requirement already satisfied: statsmodels in c:\\anaconda\\envs\\ai_ml\\lib\\site-packages (0.13.5)\n",
      "Requirement already satisfied: scipy>=1.3 in c:\\anaconda\\envs\\ai_ml\\lib\\site-packages (from statsmodels) (1.7.3)\n",
      "Requirement already satisfied: pandas>=0.25 in c:\\anaconda\\envs\\ai_ml\\lib\\site-packages (from statsmodels) (0.25.3)\n",
      "Requirement already satisfied: numpy>=1.17 in c:\\anaconda\\envs\\ai_ml\\lib\\site-packages (from statsmodels) (1.17.4)\n",
      "Requirement already satisfied: packaging>=21.3 in c:\\anaconda\\envs\\ai_ml\\lib\\site-packages (from statsmodels) (22.0)\n",
      "Requirement already satisfied: patsy>=0.5.2 in c:\\anaconda\\envs\\ai_ml\\lib\\site-packages (from statsmodels) (1.0.1)\n",
      "Requirement already satisfied: python-dateutil>=2.6.1 in c:\\anaconda\\envs\\ai_ml\\lib\\site-packages (from pandas>=0.25->statsmodels) (2.9.0.post0)\n",
      "Requirement already satisfied: pytz>=2017.2 in c:\\anaconda\\envs\\ai_ml\\lib\\site-packages (from pandas>=0.25->statsmodels) (2024.2)\n",
      "Requirement already satisfied: six>=1.5 in c:\\anaconda\\envs\\ai_ml\\lib\\site-packages (from python-dateutil>=2.6.1->pandas>=0.25->statsmodels) (1.17.0)\n"
     ]
    }
   ],
   "source": [
    "!pip install statsmodels"
   ]
  },
  {
   "cell_type": "code",
   "execution_count": 69,
   "id": "0f743b32",
   "metadata": {},
   "outputs": [],
   "source": [
    "\"\"\"\n",
    "※※※※※※※※※※※※※※※※※※※※※※※※※※※※※※※※※※※※※※※※※※※※※※※※※※※※\n",
    "𝐂𝐫𝐞𝐚𝐭𝐢𝐧𝐠 𝐚 𝐅𝐮𝐧𝐜𝐭𝐢𝐨𝐧 ➖ get_ECDF ❪𝐃𝐚𝐭𝐚𝐬𝐞𝐭 Column Name 𝐚𝐬 𝐏𝐚𝐫𝐚𝐦𝐞𝐭𝐞𝐫❫\n",
    "𝐏𝐮𝐫𝐩𝐨𝐬𝐞 : 𝐓𝐨 𝐀𝐮𝐭𝐨𝐦𝐚𝐭𝐞 𝐭𝐨 𝐤𝐧𝐨𝐰 Empirical Cumulative Density Function (ECDF) for 𝐆𝐢𝐯𝐞𝐧 𝐑𝐚𝐧𝐠𝐞\n",
    "※※※※※※※※※※※※※※※※※※※※※※※※※※※※※※※※※※※※※※※※※※※※※※※※※※※※\n",
    "\"\"\"\n",
    "\n",
    "def get_ECDF(columnNameOfDataset,range):\n",
    "\n",
    "    # importing a FUnction - ECDF from Class - emperical_distributions from Module - distribution of Library - statsmodel \n",
    "    from statsmodels.distributions.empirical_distribution import ECDF\n",
    "\n",
    "    # Calculating Empirical Cumulative Density Function (ECDF) for the Given Range\n",
    "    ecdf = ECDF(columnNameOfDataset)\n",
    "    calculated_ECDF = ecdf(range)\n",
    "\n",
    "    #Converting into Percentage and printing the same\n",
    "    ECDF_Percentage = (calculated_ECDF * 100)\n",
    "    print(f\"Percentage of Empirical Cumulative Density Function (ECDF) for the Given Range ({range}) : {ECDF_Percentage:.2f} %\")\n",
    "    \n",
    "    return calculated_ECDF"
   ]
  },
  {
   "cell_type": "code",
   "execution_count": 68,
   "id": "cb161470",
   "metadata": {},
   "outputs": [
    {
     "name": "stdout",
     "output_type": "stream",
     "text": [
      "Percentage of Empirical Cumulative Density Function (ECDF) for the Given Range (50) : 5.58 %\n"
     ]
    },
    {
     "data": {
      "text/plain": [
       "0.05581395348837209"
      ]
     },
     "execution_count": 68,
     "metadata": {},
     "output_type": "execute_result"
    }
   ],
   "source": [
    "get_ECDF(dataset[\"ssc_p\"],50)"
   ]
  },
  {
   "cell_type": "code",
   "execution_count": 86,
   "id": "f133233a",
   "metadata": {},
   "outputs": [],
   "source": [
    "\"\"\"\n",
    "※※※※※※※※※※※※※※※※※※※※※※※※※※※※※※※※※※※※※※※※※※※※※※※※※※※※\n",
    "𝐂𝐫𝐞𝐚𝐭𝐢𝐧𝐠 𝐚 𝐅𝐮𝐧𝐜𝐭𝐢𝐨𝐧 ➖ get_ECDF ❪𝐃𝐚𝐭𝐚𝐬𝐞𝐭 Column Name 𝐚𝐬 𝐏𝐚𝐫𝐚𝐦𝐞𝐭𝐞𝐫❫\n",
    "𝐏𝐮𝐫𝐩𝐨𝐬𝐞 : 𝐓𝐨 𝐀𝐮𝐭𝐨𝐦𝐚𝐭𝐞 𝐭𝐨 𝐤𝐧𝐨𝐰 Empirical Cumulative Density Function (ECDF) for 𝐆𝐢𝐯𝐞𝐧 𝐑𝐚𝐧𝐠𝐞\n",
    "※※※※※※※※※※※※※※※※※※※※※※※※※※※※※※※※※※※※※※※※※※※※※※※※※※※※\n",
    "\"\"\"\n",
    "\n",
    "def stdNormalDistributionGraph(columnNameOfDataset,range):\n",
    "    \n",
    "    \"\"\"1. Importing Necessary Libraries\"\"\"\n",
    "\n",
    "    #importing Library - seaborn and assigning into a New Variable - sb\n",
    "    #seaborn is used for plotting the \"Probability Distribution\"\n",
    "    import seaborn as sb\n",
    "      \n",
    "    \"\"\"2. Calculating Mean and Standard Deviation for Sample (columnNameOfDataset)\"\"\"\n",
    "\n",
    "    #Creating a New variable - Sample and assigning dataset into it\n",
    "    sample = columnNameOfDataset\n",
    "    sample_Mean = sample.mean()\n",
    "    sample_StandardDeviation = sample.std()\n",
    "    print('Mean=%.3f, Standard Deviation=%.3f' % (sample_Mean, sample_StandardDeviation))\n",
    "\n",
    "    \"\"\"3. Calculating Z-score for Sample (columnNameOfDataset)\"\"\"\n",
    "    \n",
    "    # A list of values for Sample (columnNameOfDataset) is created.\n",
    "    values = [value for value in columnNameOfDataset]    \n",
    "    \n",
    "    # Here, Calculating Z-score for Sample (columnNameOfDataset)\n",
    "    z_score = [((x-sample_Mean)/sample_StandardDeviation) for x in values]\n",
    "    \n",
    "    #Plotting Graph of Distance Plot Using Calculated Z-score\n",
    "    sb.distplot(z_score,kde=True)"
   ]
  },
  {
   "cell_type": "code",
   "execution_count": 87,
   "id": "e8d6c200",
   "metadata": {},
   "outputs": [
    {
     "name": "stdout",
     "output_type": "stream",
     "text": [
      "Mean=67.303, Standard Deviation=10.827\n"
     ]
    },
    {
     "name": "stderr",
     "output_type": "stream",
     "text": [
      "C:\\Anaconda\\envs\\AI_ML\\lib\\site-packages\\ipykernel_launcher.py:33: UserWarning: \n",
      "\n",
      "`distplot` is a deprecated function and will be removed in seaborn v0.14.0.\n",
      "\n",
      "Please adapt your code to use either `displot` (a figure-level function with\n",
      "similar flexibility) or `histplot` (an axes-level function for histograms).\n",
      "\n",
      "For a guide to updating your code to use the new functions, please see\n",
      "https://gist.github.com/mwaskom/de44147ed2974457ad6372750bbe5751\n",
      "\n"
     ]
    },
    {
     "data": {
      "image/png": "[encoded data removed]",
      "text/plain": [
       "<Figure size 640x480 with 1 Axes>"
      ]
     },
     "metadata": {},
     "output_type": "display_data"
    }
   ],
   "source": [
    "stdNormalDistributionGraph(dataset[\"ssc_p\"],60)"
   ]
  },
  {
   "cell_type": "code",
   "execution_count": null,
   "id": "47e67af7",
   "metadata": {},
   "outputs": [],
   "source": []
  }
 ],
 "metadata": {
  "kernelspec": {
   "display_name": "Python 3 (ipykernel)",
   "language": "python",
   "name": "python3"
  },
  "language_info": {
   "codemirror_mode": {
    "name": "ipython",
    "version": 3
   },
   "file_extension": ".py",
   "mimetype": "text/x-python",
   "name": "python",
   "nbconvert_exporter": "python",
   "pygments_lexer": "ipython3",
   "version": "3.7.1"
  }
 },
 "nbformat": 4,
 "nbformat_minor": 5
}
